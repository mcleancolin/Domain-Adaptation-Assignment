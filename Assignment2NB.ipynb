{
 "cells": [
  {
   "cell_type": "code",
   "execution_count": 181,
   "metadata": {},
   "outputs": [],
   "source": [
    "import csv\n",
    "import sys\n",
    "import random\n",
    "import numpy as np"
   ]
  },
  {
   "cell_type": "code",
   "execution_count": 182,
   "metadata": {},
   "outputs": [
    {
     "name": "stdout",
     "output_type": "stream",
     "text": [
      "3.7.4 (v3.7.4:e09359112e, Jul  8 2019, 14:54:52) \n",
      "[Clang 6.0 (clang-600.0.57)]\n"
     ]
    }
   ],
   "source": [
    "print(sys.version)"
   ]
  },
  {
   "cell_type": "code",
   "execution_count": 317,
   "metadata": {},
   "outputs": [],
   "source": [
    "male_data = np.genfromtxt('Data/MALE.csv', delimiter=',', skip_header=1)\n",
    "female_data = np.genfromtxt('Data/FEMALE.csv', delimiter=',', skip_header=1)\n",
    "mixed_data = np.genfromtxt('Data/MIXED.csv', delimiter=',', skip_header=1)\n",
    "\n",
    "male_x = male_data[:,:-1]\n",
    "male_y = male_data[:,-1:]\n",
    "female_x = female_data[:,:-1]\n",
    "female_y = female_data[:,-1:]\n",
    "mixed_x = mixed_data[:,:-1]\n",
    "mixed_y = mixed_data[:,-1:]"
   ]
  },
  {
   "cell_type": "code",
   "execution_count": 350,
   "metadata": {},
   "outputs": [],
   "source": [
    "from sklearn.model_selection import train_test_split\n",
    "\n",
    "male_x_train, male_x_test, male_y_train, male_y_test = \\\n",
    "train_test_split(male_x, male_y, test_size=0.10, random_state=random.randint(1,101))\n",
    "\n",
    "male_x_dev = male_x_test[:100]\n",
    "male_y_dev = male_y_test[:100]\n",
    "male_x_test = male_x_test[100:]\n",
    "male_y_test = male_y_test[100:]\n",
    "\n",
    "female_x_train, female_x_test, female_y_train, female_y_test = \\\n",
    "train_test_split(female_x, female_y, test_size=0.10, random_state=random.randint(1,101))\n",
    "\n",
    "female_x_dev = female_x_test[:100]\n",
    "female_y_dev = female_y_test[:100]\n",
    "female_x_test = female_x_test[100:]\n",
    "female_y_test = female_y_test[100:]\n",
    "\n",
    "\n",
    "mixed_x_train, mixed_x_test, mixed_y_train, mixed_y_test = \\\n",
    "train_test_split(mixed_x, mixed_y, test_size=0.04, random_state=random.randint(1,101))\n",
    "\n",
    "mixed_x_dev = mixed_x_test[:100]\n",
    "mixed_y_dev = mixed_y_test[:100]\n",
    "mixed_x_test = mixed_x_test[100:]\n",
    "mixed_y_test = mixed_y_test[100:]"
   ]
  },
  {
   "cell_type": "code",
   "execution_count": 351,
   "metadata": {},
   "outputs": [
    {
     "name": "stdout",
     "output_type": "stream",
     "text": [
      "Mixed test and train size: \n",
      "(193, 6)\n",
      "(7011, 6)\n",
      "Female test and train size: \n",
      "(341, 6)\n",
      "(3963, 6)\n",
      "Male test and train size: \n",
      "(266, 6)\n",
      "(3288, 6)\n"
     ]
    }
   ],
   "source": [
    "print(\"Mixed test and train size: \")\n",
    "print(mixed_x_test.shape)\n",
    "print(mixed_x_train.shape)\n",
    "\n",
    "print(\"Female test and train size: \")\n",
    "print(female_x_test.shape)\n",
    "print(female_x_train.shape)\n",
    "\n",
    "print(\"Male test and train size: \")\n",
    "print(male_x_test.shape)\n",
    "print(male_x_train.shape)\n"
   ]
  },
  {
   "cell_type": "code",
   "execution_count": 366,
   "metadata": {},
   "outputs": [],
   "source": [
    "from sklearn.linear_model import LinearRegression\n",
    "from sklearn.metrics import mean_squared_error\n",
    "from sklearn.neural_network import MLPClassifier\n",
    "from sklearn.linear_model import Ridge\n",
    "from sklearn.utils.testing import ignore_warnings\n",
    "from sklearn.exceptions import ConvergenceWarning\n",
    "from sklearn.model_selection import GridSearchCV\n",
    "\n",
    "ridge = Ridge()\n",
    "# {'hidden_layer_sizes': (16, 16, 16, 16, 16), 'learning_rate_init': 0.01, 'max_iter': 450}\n",
    "# {'hidden_layer_sizes': (16, 16, 16, 16), 'learning_rate_init': 0.01, 'max_iter': 350}\n",
    "# hidden_layer_sizes=(8, 8, 8, 8, 8, 8, 8, 8, 8), max_iter=250, activation = 'relu', learning_rate_init=.001)\n",
    "neural_net = MLPClassifier(hidden_layer_sizes=(16,16,16,16,16), max_iter=350, activation = 'relu', learning_rate_init=.001)\n"
   ]
  },
  {
   "cell_type": "code",
   "execution_count": null,
   "metadata": {},
   "outputs": [],
   "source": [
    "from hypopt import GridSearch\n",
    "\n",
    "# hyper param tuning for the ridge regression\n",
    "def tune_ridge(x_train, y_train, x_dev, y_dev, x_test, y_test):\n",
    "    params = {\"alpha\": [.0001, .001, .01, .1, 1, 10, 100, 150]}\n",
    "    grid = GridSearch(model = ridge, param_grid = params)\n",
    "    grid.fit(x_train, y_train, x_dev, y_dev)\n",
    "    #print('Best score: ', grid.score(x_test, y_test))\n",
    "    ridge.alpha = grid.best_params['alpha']\n",
    "    return ridge\n",
    "    \n",
    "# hyper param tuning for the neural network\n",
    "def tune_nn(x_train, y_train, x_dev, y_dev, x_test, y_test):\n",
    "    params = {\"learning_rate_init\": [.001, .01, .1], \"max_iter\" : [350, 400, 450], \"hidden_layer_sizes\" : [(16,16,16,16,16), (8,8,8,8,8,8,8,8,8)]}\n",
    "    grid = GridSearch(model = neural_net, param_grid = params)\n",
    "    grid.fit(x_train, y_train.ravel(), x_dev, y_dev.ravel())\n",
    "    #print('Best score: ', grid.score(x_test, y_test.ravel()))\n",
    "    neural_net.learning_rate_init = grid.best_params['learning_rate_init']\n",
    "    neural_net.max_iter = grid.best_params['max_iter']\n",
    "    neural_net.hidden_layer_sizes = grid.best_params['hidden_layer_sizes']\n",
    "    return neural_net\n",
    "    \n",
    "\n",
    "#model = tune_ridge(male_x_train, male_y_train, male_x_dev, male_y_dev, male_x_test, male_y_test)\n",
    "model = tune_nn(male_x_train, male_y_train, male_x_dev, male_y_dev, male_x_test, male_y_test)\n",
    "model.get_params()"
   ]
  },
  {
   "cell_type": "code",
   "execution_count": 367,
   "metadata": {},
   "outputs": [],
   "source": [
    "@ignore_warnings(category=ConvergenceWarning)\n",
    "def baseline(training_x, training_y, dev_x, dev_y, test_x, test_y):\n",
    "    nn = tune_nn(training_x, training_y, dev_x, dev_y, test_x, test_y)\n",
    "    nn.fit(training_x, training_y)\n",
    "    rr = tune_nn(training_x, training_y, dev_x, dev_y, test_x, test_y)\n",
    "    rr.fit(training_x, training_y)\n",
    "    rr_predictions = rr.predict(test_x)\n",
    "    nn_predictions = nn.predict(test_x)\n",
    "    return rr_predictions, nn_predictions\n",
    "\n",
    "def mse(rr_predictions, nn_predictions, test_y):\n",
    "    mse_rr1 = mean_squared_error(test_y, rr_predictions)\n",
    "    mse_nn1 = mean_squared_error(test_y, nn_predictions)\n",
    "    print(\"Ridge regression mse: \" + str(mse_rr1))\n",
    "    print(\"Neural net mse: \" + str(mse_nn1))"
   ]
  },
  {
   "cell_type": "code",
   "execution_count": 368,
   "metadata": {},
   "outputs": [],
   "source": [
    "def get_subset(data):\n",
    "    return data[:100]"
   ]
  },
  {
   "cell_type": "code",
   "execution_count": 369,
   "metadata": {},
   "outputs": [],
   "source": [
    "# three possible splits for f-fold cross validation:\n",
    "# { (male, female), (male, mixed), (female, mixed) }\n",
    "def src_data_format(x1, x2, y1, y2):\n",
    "    x = np.concatenate([x1, x2])\n",
    "    y = np.concatenate([y1, y2]).ravel()\n",
    "    return x, y"
   ]
  },
  {
   "cell_type": "code",
   "execution_count": 370,
   "metadata": {},
   "outputs": [],
   "source": [
    "def tgt_data_format(x, y):\n",
    "    return x[:100], y[:100].ravel()"
   ]
  },
  {
   "cell_type": "code",
   "execution_count": 371,
   "metadata": {},
   "outputs": [],
   "source": [
    "def all_data_format(x1, x2, x3, y1, y2, y3):\n",
    "    x3 = get_subset(x3)\n",
    "    y3 = get_subset(y3)\n",
    "    x = np.concatenate([x1, x2, x3])\n",
    "    y = np.concatenate([y1, y2, y3]).ravel()\n",
    "    return x, y"
   ]
  },
  {
   "cell_type": "code",
   "execution_count": 372,
   "metadata": {},
   "outputs": [],
   "source": [
    "def weighted(x1, x2, x3, y1, y2, y3):\n",
    "    source = np.concatenate([x1, x2])\n",
    "    target = get_subset(x3)\n",
    "    N = len(source)\n",
    "    M = len(target)\n",
    "    weight = int(N/M)\n",
    "    x = np.concatenate([source, target])\n",
    "    for i in range(1, weight):\n",
    "        x = np.concatenate([x, target])\n",
    "    return x\n",
    "\n",
    "def update_weighted_y(x, y, y_data):\n",
    "    while(len(y) < len(x)):\n",
    "        y = np.concatenate([y, y_data[:100].ravel()])\n",
    "    return y"
   ]
  },
  {
   "cell_type": "code",
   "execution_count": 404,
   "metadata": {},
   "outputs": [],
   "source": [
    "def pred(src_x1, src_x2, src_y1, src_y2, tgt_x_train, tgt_x_dev, tgt_x_test, model):\n",
    "    x, y = src_data_format(src_x1, src_x2, src_y1, src_y2)\n",
    "    model.fit(x, y)\n",
    "    \n",
    "    pred = model.predict(tgt_x_train)\n",
    "    train = np.column_stack((tgt_x_train, pred))\n",
    "    \n",
    "    pred = model.predict(tgt_x_dev)\n",
    "    dev = np.column_stack((tgt_x_dev, pred))\n",
    "    \n",
    "    pred = model.predict(tgt_x_test)\n",
    "    test = np.column_stack((tgt_x_test, pred))\n",
    "    \n",
    "    return model, train, dev, test\n",
    "\n",
    "def make_predictions(model, train_x, train_y, dev_x, dev_y, test_x, test_y):\n",
    "    model.fit(train_x, train_y.ravel())\n",
    "    predictions = model.predict(test_x)\n",
    "    return linint_mse(predictions, test_y)\n",
    "    \n"
   ]
  },
  {
   "cell_type": "code",
   "execution_count": 398,
   "metadata": {},
   "outputs": [],
   "source": [
    "from sklearn.linear_model import LinearRegression\n",
    "\n",
    "# predictions are of length 100 from target dev data\n",
    "def linint(srconly_pred, tgtonly_pred, target_dev_x, target_dev_y, target_test_x):\n",
    "    combined_models = np.column_stack((srconly_pred,tgtonly_pred))\n",
    "    model = LinearRegression()\n",
    "    model.fit(combined_models, target_dev_y.ravel())\n",
    "    model.predict\n",
    "    \n",
    "    combined_models = np.column_stack((tgtonly_pred,tgtonly_pred))\n",
    "    prediction = model.predict(combined_models)\n",
    "    return prediction\n",
    "    \n",
    "# calculates the mse for linint because linint returns only 1 predicter, not 2\n",
    "def linint_mse(predictions, test):\n",
    "    error = mean_squared_error(test, predictions)\n",
    "    print(\"mse: \" + str(error))"
   ]
  },
  {
   "cell_type": "code",
   "execution_count": 375,
   "metadata": {},
   "outputs": [],
   "source": [
    "x1, y1 = src_data_format(male_x_train, female_x_train, male_y_train, female_y_train)\n",
    "dev_x1, dev_y1 = src_data_format(male_x_dev, female_x_dev, male_y_dev, female_y_dev)\n",
    "\n",
    "x2, y2 = src_data_format(male_x_train, mixed_x_train, male_y_train, mixed_y_train)\n",
    "dev_x2, dev_y2 = src_data_format(male_x_dev, mixed_x_dev, male_y_dev, mixed_y_dev)\n",
    "\n",
    "x3, y3 = src_data_format(female_x_train, mixed_x_train, female_y_train, mixed_y_train)\n",
    "dev_x3, dev_y3 = src_data_format(female_x_dev, mixed_x_dev, female_y_dev, mixed_y_dev)"
   ]
  },
  {
   "cell_type": "code",
   "execution_count": 376,
   "metadata": {
    "scrolled": true
   },
   "outputs": [
    {
     "name": "stdout",
     "output_type": "stream",
     "text": [
      "Mixed target SRCONLY model:\n",
      "Ridge regression mse: 114.92198704382011\n",
      "Neural net mse: 153.21243523316062\n",
      "Female target SRCONLY model:\n",
      "Ridge regression mse: 164.3392558326437\n",
      "Neural net mse: 155.42815249266863\n",
      "Male target SRCONLY model:\n",
      "Ridge regression mse: 157.55730189104148\n",
      "Neural net mse: 137.38345864661653\n"
     ]
    }
   ],
   "source": [
    "# baseline(training_x, training_y, dev_x, dev_y, test_x, test_y)\n",
    "\n",
    "print(\"Mixed target SRCONLY model:\")\n",
    "rr_predictions, nn_predictions = baseline(x1, y1, dev_x1, dev_y1, mixed_x_test, mixed_y_test)\n",
    "mse(rr_predictions, nn_predictions, mixed_y_test)\n",
    "\n",
    "print(\"Female target SRCONLY model:\")\n",
    "rr_predictions, nn_predictions = baseline(x2, y2, dev_x2, dev_y2, female_x_test, female_y_test)\n",
    "mse(rr_predictions, nn_predictions, female_y_test)\n",
    "\n",
    "print(\"Male target SRCONLY model:\")\n",
    "rr_predictions, nn_predictions = baseline(x3, y3, dev_x3, dev_y3, male_x_test, male_y_test)\n",
    "mse(rr_predictions, nn_predictions, male_y_test)"
   ]
  },
  {
   "cell_type": "code",
   "execution_count": 379,
   "metadata": {},
   "outputs": [],
   "source": [
    "x1, y1 = tgt_data_format(male_x_train, male_y_train)\n",
    "x2, y2 = tgt_data_format(female_x_train, female_y_train)\n",
    "x3, y3 = tgt_data_format(mixed_x_train, mixed_y_train)"
   ]
  },
  {
   "cell_type": "code",
   "execution_count": 380,
   "metadata": {
    "scrolled": true
   },
   "outputs": [
    {
     "name": "stdout",
     "output_type": "stream",
     "text": [
      "Mixed target SRCONLY model:\n",
      "Ridge regression mse: 115.8301801875647\n",
      "Neural net mse: 231.79274611398964\n",
      "Female target SRCONLY model:\n",
      "Ridge regression mse: 165.8498956004615\n",
      "Neural net mse: 252.29912023460412\n",
      "Male target TGTONLY model:\n",
      "Ridge regression mse: 150.9510980233947\n",
      "Neural net mse: 284.90977443609023\n"
     ]
    }
   ],
   "source": [
    "print(\"Mixed target TGTONLY model:\")\n",
    "rr_predictions, nn_predictions = baseline(x3, y3, mixed_x_test)\n",
    "mse(rr_predictions, nn_predictions, mixed_y_test)\n",
    "\n",
    "print(\"Female target TGTONLY model:\")\n",
    "rr_predictions, nn_predictions = baseline(x2, y2, female_x_test)\n",
    "mse(rr_predictions, nn_predictions, female_y_test)\n",
    "\n",
    "print(\"Male target TGTONLY model:\")\n",
    "rr_predictions, nn_predictions = baseline(x1, y1, male_x_test)\n",
    "mse(rr_predictions, nn_predictions, male_y_test)"
   ]
  },
  {
   "cell_type": "code",
   "execution_count": 381,
   "metadata": {},
   "outputs": [],
   "source": [
    "x1, y1 = all_data_format(male_x_train, female_x_train, mixed_x_train, male_y_train, female_y_train, mixed_y_train)\n",
    "x2, y2 = all_data_format(male_x_train, mixed_x_train, female_x_train, male_y_train, mixed_y_train, female_y_train)\n",
    "x3, y3 = all_data_format(female_x_train, mixed_x_train, male_x_train, female_y_train, mixed_y_train, male_y_train)"
   ]
  },
  {
   "cell_type": "code",
   "execution_count": 382,
   "metadata": {
    "scrolled": true
   },
   "outputs": [
    {
     "name": "stdout",
     "output_type": "stream",
     "text": [
      "Mixed target ALL model:\n",
      "Ridge regression mse: 114.7379111936112\n",
      "Neural net mse: 115.35751295336787\n",
      "Female target ALL model:\n",
      "Ridge regression mse: 164.36480311855726\n",
      "Neural net mse: 156.22287390029325\n",
      "Male target ALL model:\n",
      "Ridge regression mse: 157.33031150905555\n",
      "Neural net mse: 132.30075187969925\n"
     ]
    }
   ],
   "source": [
    "print(\"Mixed target ALL model:\")\n",
    "rr_predictions, nn_predictions = baseline(x1, y1, mixed_x_test)\n",
    "mse(rr_predictions, nn_predictions, mixed_y_test)\n",
    "\n",
    "print(\"Female target ALL model:\")\n",
    "rr_predictions, nn_predictions = baseline(x2, y2, female_x_test)\n",
    "mse(rr_predictions, nn_predictions, female_y_test)\n",
    "\n",
    "print(\"Male target ALL model:\")\n",
    "rr_predictions, nn_predictions = baseline(x3, y3, male_x_test)\n",
    "mse(rr_predictions, nn_predictions, male_y_test)"
   ]
  },
  {
   "cell_type": "code",
   "execution_count": 309,
   "metadata": {},
   "outputs": [],
   "source": [
    "# change the data groups to the all variables\n",
    "x1 = weighted(male_x_train, female_x_train, mixed_x_train, male_y_train, female_y_train, mixed_y_train)\n",
    "x2 = weighted(male_x_train, mixed_x_train, female_x_train, male_y_train, mixed_y_train, female_y_train)\n",
    "x3 = weighted(female_x_train, mixed_x_train, male_x_train, female_y_train, mixed_y_train, male_y_train)\n",
    "\n",
    "y1 = update_weighted_y(x1, y1, mixed_y_train)\n",
    "y2 = update_weighted_y(x2, y2, female_y_train)\n",
    "y3 = update_weighted_y(x3, y3, male_y_train)"
   ]
  },
  {
   "cell_type": "code",
   "execution_count": 310,
   "metadata": {},
   "outputs": [
    {
     "name": "stdout",
     "output_type": "stream",
     "text": [
      "Mixed target WEIGHTED model:\n",
      "Ridge regression mse: 145.35193129758622\n",
      "Neural net mse: 242.59904912836768\n",
      "Female target WEIGHTED model:\n",
      "Ridge regression mse: 171.46480823240492\n",
      "Neural net mse: 274.9882697947214\n",
      "Male target WEIGHTED model:\n",
      "Ridge regression mse: 176.2156872351883\n",
      "Neural net mse: 281.1127819548872\n"
     ]
    }
   ],
   "source": [
    "print(\"Mixed target WEIGHTED model:\")\n",
    "rr_predictions, nn_predictions = baseline(x1, y1, mixed_x_test)\n",
    "mse(rr_predictions, nn_predictions, mixed_y_test)\n",
    "\n",
    "print(\"Female target WEIGHTED model:\")\n",
    "rr_predictions, nn_predictions = baseline(x2, y2, female_x_test)\n",
    "mse(rr_predictions, nn_predictions, female_y_test)\n",
    "\n",
    "print(\"Male target WEIGHTED model:\")\n",
    "rr_predictions, nn_predictions = baseline(x3, y3, male_x_test)\n",
    "mse(rr_predictions, nn_predictions, male_y_test)"
   ]
  },
  {
   "cell_type": "code",
   "execution_count": 390,
   "metadata": {},
   "outputs": [
    {
     "name": "stdout",
     "output_type": "stream",
     "text": [
      "PRED mixed target: \n",
      "mse: 109.26973139802593\n",
      "mse: 114.54922279792746\n",
      "PRED female target: \n",
      "mse: 160.24704084160345\n",
      "mse: 129.66275659824046\n",
      "PRED male target: \n",
      "mse: 148.9383099879814\n",
      "mse: 159.0563909774436\n"
     ]
    },
    {
     "name": "stderr",
     "output_type": "stream",
     "text": [
      "/Library/Frameworks/Python.framework/Versions/3.7/lib/python3.7/site-packages/sklearn/neural_network/multilayer_perceptron.py:566: ConvergenceWarning: Stochastic Optimizer: Maximum iterations (350) reached and the optimization hasn't converged yet.\n",
      "  % self.max_iter, ConvergenceWarning)\n"
     ]
    }
   ],
   "source": [
    "print(\"PRED mixed target: \")\n",
    "rr, train, dev, test = pred(male_x_train, female_x_train, male_y_train, female_y_train, mixed_x_train, mixed_x_dev, mixed_x_test, ridge)    \n",
    "make_predictions(rr, train, mixed_y_train, dev, mixed_y_dev, test, mixed_y_test)\n",
    "nn, train, dev, test = pred(male_x_train, female_x_train, male_y_train, female_y_train, mixed_x_train, mixed_x_dev, mixed_x_test, neural_net)    \n",
    "make_predictions(nn, train, mixed_y_train, dev, mixed_y_dev, test, mixed_y_test)\n",
    "\n",
    "print(\"PRED female target: \")\n",
    "rr, train, dev, test = pred(male_x_train, mixed_x_train, male_y_train, mixed_y_train, female_x_train, female_x_dev, female_x_test, ridge)    \n",
    "make_predictions(rr, train, female_y_train, dev, female_y_dev, test, female_y_test)\n",
    "nn, train, dev, test = pred(male_x_train, mixed_x_train, male_y_train, mixed_y_train, female_x_train, female_x_dev, female_x_test, neural_net)    \n",
    "make_predictions(nn, train, female_y_train, dev, female_y_dev, test, female_y_test)\n",
    "\n",
    "print(\"PRED male target: \")\n",
    "rr, train, dev, test = pred(female_x_train, mixed_x_train, female_y_train, mixed_y_train, male_x_train, male_x_dev, male_x_test, ridge)    \n",
    "make_predictions(rr, train, male_y_train, dev, male_y_dev, test, male_y_test)\n",
    "nn, train, dev, test = pred(female_x_train, mixed_x_train, female_y_train, mixed_y_train, male_x_train, male_x_dev, male_x_test, neural_net)    \n",
    "make_predictions(nn, train, male_y_train, dev, male_y_dev, test, male_y_test)"
   ]
  },
  {
   "cell_type": "code",
   "execution_count": null,
   "metadata": {},
   "outputs": [],
   "source": [
    "# Mixed target data formatting\n",
    "x1, y1 = src_data_format(male_x_train, female_x_train, male_y_train, female_y_train)\n",
    "rr_src1, nn_src1 = baseline(x1, y1, mixed_x_dev)\n",
    "\n",
    "x1, y1 = tgt_data_format(mixed_x_train, mixed_y_train)\n",
    "rr_tgt1, nn_tgt1 = baseline(x1, y1, mixed_x_dev)\n",
    "\n",
    "# Female target data formatting\n",
    "x2, y2 = src_data_format(male_x_train, mixed_x_train, male_y_train, mixed_y_train)\n",
    "rr_src2, nn_src2 = baseline(x1, y1, female_x_dev)\n",
    "\n",
    "x2, y2 = tgt_data_format(female_x_train, female_y_train)\n",
    "rr_tgt2, nn_tgt2 = baseline(x1, y1, female_x_dev)\n",
    "\n",
    "# Male target data formatting\n",
    "x3, y3 = src_data_format(mixed_x_train, female_x_train, mixed_y_train, female_y_train)\n",
    "rr_src3, nn_src3 = baseline(x1, y1, male_x_dev)\n",
    "\n",
    "x3, y3 = tgt_data_format(male_x_train, male_y_train)\n",
    "rr_tgt3, nn_tgt3 = baseline(x1, y1, male_x_dev)"
   ]
  },
  {
   "cell_type": "code",
   "execution_count": null,
   "metadata": {},
   "outputs": [],
   "source": [
    "print(\"Mixed target Ridge Regression LININT model:\")\n",
    "predictions = linint(rr_src1, rr_tgt1, mixed_x_dev, mixed_y_dev, mixed_x_test)\n",
    "linint_mse(predictions, mixed_y_dev)\n",
    "\n",
    "print(\"Mixed target Neural Net LININT model:\")\n",
    "predictions = linint(nn_src1, nn_tgt1, mixed_x_dev, mixed_y_dev, mixed_x_test)\n",
    "linint_mse(predictions, mixed_y_dev)\n",
    "\n",
    "print(\"Female target Ridge Regression LININT model:\")\n",
    "predictions = linint(rr_src2, rr_tgt2, female_x_dev, female_y_dev, female_x_test)\n",
    "linint_mse(predictions, female_y_dev)\n",
    "\n",
    "print(\"Female target Neural Net LININT model:\")\n",
    "predictions = linint(nn_src1, nn_tgt1, female_x_dev, female_y_dev, female_x_test)\n",
    "linint_mse(predictions, female_y_dev)\n",
    "\n",
    "print(\"Male target Ridge Regression LININT model:\")\n",
    "predictions = linint(rr_src3, rr_tgt3, male_x_dev, male_y_dev, male_x_test)\n",
    "linint_mse(predictions, male_y_dev)\n",
    "\n",
    "print(\"Male target Neural Net LININT model:\")\n",
    "predictions = linint(nn_src3, nn_tgt3, male_x_dev, male_y_dev, male_x_test)\n",
    "linint_mse(predictions, male_y_dev)\n",
    "\n"
   ]
  },
  {
   "cell_type": "code",
   "execution_count": 204,
   "metadata": {},
   "outputs": [],
   "source": [
    "# number is 1 2 3 denoting which positition x lies in the <x, i, i, i> vector\n",
    "# male would be <x,x,0,0>, female <x,0,x,0> and mixed <x,0,0,x> \n",
    "def feda(source_x, number):\n",
    "    new_data = []\n",
    "    for row in source_x:\n",
    "        expanded_row = []\n",
    "        for i in row:\n",
    "            expanded_row.append(i)\n",
    "            if number == 1:\n",
    "                expanded_row.append(i)\n",
    "                expanded_row.append(0)\n",
    "                expanded_row.append(0)\n",
    "            elif number == 2:\n",
    "                expanded_row.append(0)\n",
    "                expanded_row.append(i)\n",
    "                expanded_row.append(0)\n",
    "            elif number == 3:\n",
    "                expanded_row.append(0)\n",
    "                expanded_row.append(0)\n",
    "                expanded_row.append(i)\n",
    "        new_data.append(expanded_row)\n",
    "    data = np.array(new_data)\n",
    "    return data\n",
    "            "
   ]
  },
  {
   "cell_type": "code",
   "execution_count": 205,
   "metadata": {},
   "outputs": [
    {
     "name": "stdout",
     "output_type": "stream",
     "text": [
      "Mixed target FEDA TGTONLY model:\n",
      "Ridge regression mse: 138.86195035151235\n",
      "Neural net mse: 317.2931854199683\n",
      "Female target FEDA TGTONLY model:\n",
      "Ridge regression mse: 138.95148769323373\n",
      "Neural net mse: 176.97067448680352\n",
      "Male target FEDA TGTONLY model:\n",
      "Ridge regression mse: 157.41649525390852\n",
      "Neural net mse: 196.11278195488723\n"
     ]
    }
   ],
   "source": [
    "x1, y1 = tgt_data_format(male_x_train, male_y_train)\n",
    "x2, y2 = tgt_data_format(female_x_train, female_y_train)\n",
    "x3, y3 = tgt_data_format(mixed_x_train, mixed_y_train)\n",
    "\n",
    "print(\"Mixed target FEDA TGTONLY model:\")\n",
    "rr_predictions, nn_predictions = baseline(feda(x3, 3), y3, feda(mixed_x_test, 3))\n",
    "mse(rr_predictions, nn_predictions, mixed_y_test)\n",
    "\n",
    "print(\"Female target FEDA TGTONLY model:\")\n",
    "rr_predictions, nn_predictions =  baseline(feda(x2, 2), y2, feda(female_x_test, 2))\n",
    "mse(rr_predictions, nn_predictions, female_y_test)\n",
    "\n",
    "print(\"Male target FEDA TGTONLY model:\")\n",
    "rr_predictions, nn_predictions = baseline(feda(x1,1), y1, feda(male_x_test, 1))\n",
    "mse(rr_predictions, nn_predictions, male_y_test)"
   ]
  },
  {
   "cell_type": "code",
   "execution_count": 206,
   "metadata": {},
   "outputs": [
    {
     "name": "stdout",
     "output_type": "stream",
     "text": [
      "Mixed target FEDA SRCONLY:\n",
      "Ridge regression mse: 143.33396971646772\n",
      "Neural net mse: 235.80348652931855\n",
      "Female target FEDA SRCONLY:\n",
      "Ridge regression mse: 177.21325080233805\n",
      "Neural net mse: 197.0791788856305\n",
      "Male target FEDA SRCONLY:\n",
      "Ridge regression mse: 153.98807279747416\n",
      "Neural net mse: 143.90977443609023\n"
     ]
    }
   ],
   "source": [
    "feda_male = feda(male_x_train, 1)\n",
    "feda_female = feda(female_x_train, 2)\n",
    "feda_mixed = feda(mixed_x_train, 3)\n",
    "\n",
    "print(\"Mixed target FEDA SRCONLY:\")\n",
    "x1, y1 = src_data_format(feda_male, feda_female, male_y_train, female_y_train)\n",
    "x1_test = feda(mixed_x_test, 3)\n",
    "rr_predictions, nn_predictions = baseline(x1, y1, x1_test)\n",
    "mse(rr_predictions, nn_predictions, mixed_y_test)\n",
    "\n",
    "print(\"Female target FEDA SRCONLY:\")\n",
    "x2, y2 = src_data_format(feda_male, feda_mixed, male_y_train, mixed_y_train)\n",
    "x2_test = feda(female_x_test, 2)\n",
    "rr_predictions, nn_predictions = baseline(x2, y2, x2_test)\n",
    "mse(rr_predictions, nn_predictions, female_y_test)\n",
    "\n",
    "print(\"Male target FEDA SRCONLY:\")\n",
    "x3, y3 = src_data_format(feda_female, feda_mixed, female_y_train, mixed_y_train)\n",
    "x3_test = feda(male_x_test, 1)\n",
    "rr_predictions, nn_predictions = baseline(x1, y1, x3_test)\n",
    "mse(rr_predictions, nn_predictions, male_y_test)"
   ]
  },
  {
   "cell_type": "code",
   "execution_count": 281,
   "metadata": {},
   "outputs": [],
   "source": [
    "def find_similarity(source_x, source_y, target_x, threshold):\n",
    "    x = []\n",
    "    y = []\n",
    "    for i in range(0, len(source_x)):\n",
    "        src_row = source_x[i]\n",
    "        similarity = 0\n",
    "        for tgt_row in target_x[:100]:\n",
    "            similarity += sum((src_row - tgt_row)**2)\n",
    "        similarity /= 100\n",
    "        if similarity < threshold:\n",
    "            x.append(src_row)\n",
    "            y.append(source_y[i])\n",
    "    print(str(len(y)) + \" samples were found to be similar to the target data.\")\n",
    "    return x, y"
   ]
  },
  {
   "cell_type": "code",
   "execution_count": 284,
   "metadata": {},
   "outputs": [
    {
     "name": "stdout",
     "output_type": "stream",
     "text": [
      "Mixed is the target:\n",
      "1312 samples were found to be similar to the target data.\n",
      "1295 samples were found to be similar to the target data.\n",
      "Female is the target:\n",
      "1793 samples were found to be similar to the target data.\n",
      "2592 samples were found to be similar to the target data.\n",
      "Male is the target:\n",
      "1861 samples were found to be similar to the target data.\n",
      "3408 samples were found to be similar to the target data.\n"
     ]
    }
   ],
   "source": [
    "print(\"Mixed is the target:\")\n",
    "x_new1, y_new1 = find_similarity(male_x_train, male_y_train, mixed_x_train, 400)\n",
    "x_new2, y_new2 = find_similarity(female_x_train, female_y_train, mixed_x_train, 400)\n",
    "\n",
    "x1 = np.concatenate([mixed_x_train[:100], x_new1, x_new2])\n",
    "y1 = np.concatenate([mixed_y_train[:100], y_new1, y_new2])\n",
    "\n",
    "print(\"Female is the target:\")\n",
    "x_new1, y_new1 = find_similarity(male_x_train, male_y_train, female_x_train, 400)\n",
    "x_new2, y_new2 = find_similarity(mixed_x_train, mixed_y_train, female_x_train, 400)\n",
    "\n",
    "x2 = np.concatenate([female_x_train[:100], x_new1, x_new2])\n",
    "y2 = np.concatenate([female_y_train[:100], y_new1, y_new2])\n",
    "\n",
    "print(\"Male is the target:\")\n",
    "x_new1, y_new1 = find_similarity(female_x_train, female_y_train, male_x_train, 400)\n",
    "x_new2, y_new2 = find_similarity(mixed_x_train, mixed_y_train, male_x_train, 400)\n",
    "\n",
    "x2 = np.concatenate([male_x_train[:100], x_new1, x_new2])\n",
    "y2 = np.concatenate([male_y_train[:100], y_new1, y_new2])"
   ]
  },
  {
   "cell_type": "code",
   "execution_count": 285,
   "metadata": {},
   "outputs": [
    {
     "name": "stdout",
     "output_type": "stream",
     "text": [
      "-----MIXED TARGET-----\n",
      "TGT ELM:\n",
      "158.23582537456818\n",
      "TGT ELM with added threshold data:\n",
      "128.1621717383944\n",
      "ALL ELM:\n",
      "112.16138503843507\n"
     ]
    }
   ],
   "source": [
    "print(\"-----MIXED TARGET-----\")\n",
    "print(\"TGT ELM:\")\n",
    "elm_poly.train(np.column_stack([mixed_y_train[:100], mixed_x_train[:100]]))\n",
    "print(elm_poly.test(np.column_stack((mixed_y_test,mixed_x_test))).get(\"mse\"))\n",
    "\n",
    "print(\"TGT ELM with added threshold data:\")\n",
    "elm_poly.train(np.column_stack((y1,x1)))\n",
    "print(elm_poly.test(np.column_stack((mixed_y_test,mixed_x_test))).get(\"mse\"))\n",
    "      \n",
    "x1 = np.concatenate([mixed_x_train[:100], male_x_train, female_x_train])\n",
    "y1 = np.concatenate([mixed_y_train[:100], male_y_train, female_y_train])\n",
    "print(\"ALL ELM:\")\n",
    "elm_poly.train(np.column_stack((y1,x1)))\n",
    "print(elm_poly.test(np.column_stack((mixed_y_test,mixed_x_test))).get(\"mse\"))"
   ]
  },
  {
   "cell_type": "code",
   "execution_count": 286,
   "metadata": {},
   "outputs": [
    {
     "name": "stdout",
     "output_type": "stream",
     "text": [
      "-----Female TARGET-----\n",
      "TGT ELM:\n",
      "139.43175060932026\n",
      "TGT ELM with added threshold data:\n",
      "127.4104173106588\n",
      "ALL ELM:\n",
      "109.62844405271157\n"
     ]
    }
   ],
   "source": [
    "print(\"-----Female TARGET-----\")\n",
    "print(\"TGT ELM:\")\n",
    "elm_poly.train(np.column_stack([female_y_train[:100], female_x_train[:100]]))\n",
    "print(elm_poly.test(np.column_stack((female_y_test, female_x_test))).get(\"mse\"))\n",
    "\n",
    "print(\"TGT ELM with added threshold data:\")\n",
    "elm_poly.train(np.column_stack((y2,x2)))\n",
    "print(elm_poly.test(np.column_stack((female_y_test,female_x_test))).get(\"mse\"))\n",
    "      \n",
    "x2 = np.concatenate([female_x_train[:100], male_x_train, mixed_x_train])\n",
    "y2 = np.concatenate([female_y_train[:100], male_y_train, mixed_y_train])\n",
    "print(\"ALL ELM:\")\n",
    "elm_poly.train(np.column_stack((y2,x2)))\n",
    "print(elm_poly.test(np.column_stack((female_y_test,female_x_test))).get(\"mse\"))"
   ]
  },
  {
   "cell_type": "code",
   "execution_count": 287,
   "metadata": {},
   "outputs": [
    {
     "name": "stdout",
     "output_type": "stream",
     "text": [
      "-----Male TARGET-----\n",
      "TGT ELM:\n",
      "156.7855629084097\n",
      "TGT ELM with added threshold data:\n",
      "117.60682751845277\n",
      "ALL ELM:\n",
      "117.33856661143736\n"
     ]
    }
   ],
   "source": [
    "print(\"-----Male TARGET-----\")\n",
    "print(\"TGT ELM:\")\n",
    "elm_poly.train(np.column_stack([male_y_train[:100], male_x_train[:100]]))\n",
    "print(elm_poly.test(np.column_stack((male_y_test, male_x_test))).get(\"mse\"))\n",
    "\n",
    "print(\"TGT ELM with added threshold data:\")\n",
    "elm_poly.train(np.column_stack((y3,x3)))\n",
    "print(elm_poly.test(np.column_stack((male_y_test,male_x_test))).get(\"mse\"))\n",
    "      \n",
    "x3 = np.concatenate([male_x_train[:100], female_x_train, mixed_x_train])\n",
    "y3 = np.concatenate([male_y_train[:100], female_y_train, mixed_y_train])\n",
    "print(\"ALL ELM:\")\n",
    "elm_poly.train(np.column_stack((y3,x3)))\n",
    "print(elm_poly.test(np.column_stack((male_y_test,male_x_test))).get(\"mse\"))"
   ]
  },
  {
   "cell_type": "code",
   "execution_count": 61,
   "metadata": {},
   "outputs": [
    {
     "name": "stdout",
     "output_type": "stream",
     "text": [
      "ELM mse: 208.42472266244056\n"
     ]
    }
   ],
   "source": [
    "from elm import ELM\n",
    "from sklearn.model_selection import ShuffleSplit, KFold, cross_val_score\n",
    "\n",
    "x1, y1 = src_data_format(male_x_train, female_x_train, male_y_train, female_y_train)\n",
    "x2, y2 = src_data_format(male_x_train, mixed_x_train, male_y_train, mixed_y_train)\n",
    "x3, y3 = src_data_format(female_x_train, mixed_x_train, female_y_train, mixed_y_train)\n",
    "hid_nums = [10, 50, 100, 250, 400]\n",
    "'''\n",
    "for number in hid_nums:\n",
    "    print(number, end=' ')\n",
    "    e = ELM(number)\n",
    "    ave = 0\n",
    "    for i in range(10):\n",
    "        cv = KFold(n_splits=5, shuffle=True)\n",
    "        scores = cross_val_score(e, x2.astype(int), y2.astype(int),cv=cv, scoring='accuracy', n_jobs=-1)\n",
    "        ave += scores.mean()\n",
    "    ave /= 10\n",
    "    print(\"Accuracy: %0.3f \" % (ave))\n",
    "'''\n",
    "elm = ELM(hid_num=250).fit(x1.astype(int), y1.astype(int))\n",
    "preds = elm.predict(mixed_x_test.astype(int))\n",
    "error = mean_squared_error(mixed_y_test.astype(int), preds)\n",
    "print(\"ELM mse: \" + str(error))\n",
    "\n",
    "#print(\"ELM Accuracy %0.3f \" % elm.score(mixed_x_test.astype(int), mixed_y_test.astype(int)))"
   ]
  },
  {
   "cell_type": "code",
   "execution_count": 165,
   "metadata": {},
   "outputs": [],
   "source": [
    "import elm.elmk\n",
    "# first argument is a kernel function \n",
    "# second iscoefficient C of regularization,\n",
    "# third is a list of arguments for the kernel function.\n",
    "# safe values -> params = [\"poly\", 0.9993040203345642, [2.470566656543985, 2.4474257958252617]]\n",
    "params = [\"poly\", 1.0722153359905189, [3.06744136499759, 2.3780118881296826]]\n",
    "elm_poly = elm.ELMKernel(params)\n",
    "params = [\"linear\", 250, []]\n",
    "elm_linear = elm.ELMKernel(params)\n",
    "params = [\"rbf\", 5.092921315186362, [-14.097889701989264]]\n",
    "elm_rbf = elm.ELMKernel(params)"
   ]
  },
  {
   "cell_type": "code",
   "execution_count": 166,
   "metadata": {},
   "outputs": [
    {
     "name": "stdout",
     "output_type": "stream",
     "text": [
      "elmk\n",
      "##### Start search #####\n"
     ]
    },
    {
     "name": "stderr",
     "output_type": "stream",
     "text": [
      "/Library/Frameworks/Python.framework/Versions/3.7/lib/python3.7/site-packages/deap/creator.py:141: RuntimeWarning: A class named 'FitnessMax' has already been created and it will be overwritten. Consider deleting previous creation of that class or rename it.\n",
      "  RuntimeWarning)\n",
      "/Library/Frameworks/Python.framework/Versions/3.7/lib/python3.7/site-packages/deap/creator.py:141: RuntimeWarning: A class named 'Individual' has already been created and it will be overwritten. Consider deleting previous creation of that class or rename it.\n",
      "  RuntimeWarning)\n"
     ]
    },
    {
     "name": "stdout",
     "output_type": "stream",
     "text": [
      "Kernel function:  rbf  best cv value:  12.458890608230988\n",
      "##### Search complete #####\n",
      "\n",
      "Regressor Parameters\n",
      "\n",
      "Regularization coefficient:  3.4605337430331766\n",
      "Kernel Function:  rbf\n",
      "Kernel parameters:  [-11.869577640638505]\n",
      "\n",
      "CV error:  12.458890608230988\n",
      "\n",
      "elmk\n",
      "##### Start search #####\n",
      "Kernel function:  linear  best cv value:  12.494790157920074\n",
      "##### Search complete #####\n",
      "\n",
      "Regressor Parameters\n",
      "\n",
      "Regularization coefficient:  -1.4038826250230767\n",
      "Kernel Function:  linear\n",
      "Kernel parameters:  []\n",
      "\n",
      "CV error:  12.494790157920074\n",
      "\n",
      "elmk\n",
      "##### Start search #####\n",
      "Kernel function:  poly  best cv value:  11.138483353497202\n",
      "##### Search complete #####\n",
      "\n",
      "Regressor Parameters\n",
      "\n",
      "Regularization coefficient:  2.497220939205878\n",
      "Kernel Function:  poly\n",
      "Kernel parameters:  [2.81682235152461, 2.269563054158114]\n",
      "\n",
      "CV error:  11.138483353497202\n",
      "\n"
     ]
    }
   ],
   "source": [
    "total_data = np.concatenate([np.column_stack((male_y_test,male_x_test)),\\\n",
    "                             np.column_stack((female_y_test,female_x_test)),\\\n",
    "                             np.column_stack((mixed_y_test,mixed_x_test))])\n",
    "elm_poly.search_param(total_data, kf = [\"rbf\"])\n",
    "elm_poly.search_param(total_data, kf = [\"linear\"])\n",
    "elm_poly.search_param(total_data, kf = [\"poly\"])"
   ]
  },
  {
   "cell_type": "code",
   "execution_count": 280,
   "metadata": {},
   "outputs": [
    {
     "name": "stdout",
     "output_type": "stream",
     "text": [
      "141.5591255698434\n"
     ]
    }
   ],
   "source": [
    "x1, y1 = src_data_format(male_x_train, female_x_train, male_y_train, female_y_train)\n",
    "x2, y2 = src_data_format(male_x_train, mixed_x_train, male_y_train, mixed_y_train)\n",
    "x3, y3 = src_data_format(female_x_train, mixed_x_train, female_y_train, mixed_y_train)\n",
    "elm_rbf.train(np.column_stack((y2,x2)))\n",
    "print(elm_rbf.test(np.column_stack((female_y_test,female_x_test))).get(\"mse\"))"
   ]
  },
  {
   "cell_type": "code",
   "execution_count": null,
   "metadata": {},
   "outputs": [],
   "source": []
  }
 ],
 "metadata": {
  "kernelspec": {
   "display_name": "Python 3",
   "language": "python",
   "name": "python3"
  },
  "language_info": {
   "codemirror_mode": {
    "name": "ipython",
    "version": 3
   },
   "file_extension": ".py",
   "mimetype": "text/x-python",
   "name": "python",
   "nbconvert_exporter": "python",
   "pygments_lexer": "ipython3",
   "version": "3.7.4"
  }
 },
 "nbformat": 4,
 "nbformat_minor": 2
}
