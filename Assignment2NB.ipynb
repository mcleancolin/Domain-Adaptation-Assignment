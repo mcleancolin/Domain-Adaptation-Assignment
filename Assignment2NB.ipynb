{
 "cells": [
  {
   "cell_type": "code",
   "execution_count": 2,
   "metadata": {},
   "outputs": [],
   "source": [
    "import csv\n",
    "import sys\n",
    "import numpy as np"
   ]
  },
  {
   "cell_type": "code",
   "execution_count": 3,
   "metadata": {},
   "outputs": [
    {
     "name": "stdout",
     "output_type": "stream",
     "text": [
      "3.7.4 (v3.7.4:e09359112e, Jul  8 2019, 14:54:52) \n",
      "[Clang 6.0 (clang-600.0.57)]\n"
     ]
    }
   ],
   "source": [
    "print(sys.version)"
   ]
  },
  {
   "cell_type": "code",
   "execution_count": 48,
   "metadata": {},
   "outputs": [],
   "source": [
    "male_data = np.genfromtxt('Data/MALE.csv', delimiter=',', skip_header=1)\n",
    "female_data = np.genfromtxt('Data/FEMALE.csv', delimiter=',', skip_header=1)\n",
    "mixed_data = np.genfromtxt('Data/MIXED.csv', delimiter=',', skip_header=1)\n",
    "\n",
    "male_x = male_data[:,:-1]\n",
    "male_y = male_data[:,-1:]\n",
    "female_x = female_data[:,:-1]\n",
    "female_y = female_data[:,-1:]\n",
    "mixed_x = mixed_data[:,:-1]\n",
    "mixed_y = mixed_data[:,-1:]"
   ]
  },
  {
   "cell_type": "code",
   "execution_count": 5,
   "metadata": {},
   "outputs": [],
   "source": [
    "from sklearn.model_selection import train_test_split\n",
    "\n",
    "male_x_train, male_x_test, male_y_train, male_y_test = \\\n",
    "train_test_split(male_x, male_y, test_size=0.1, random_state=1)\n",
    "\n",
    "male_x_dev = male_x_test[:100]\n",
    "male_y_dev = male_y_test[:100]\n",
    "male_x_test = male_x_test[100:]\n",
    "male_y_test = male_y_test[100:]\n",
    "\n",
    "female_x_train, female_x_test, female_y_train, female_y_test = \\\n",
    "train_test_split(female_x, female_y, test_size=0.1, random_state=1)\n",
    "\n",
    "female_x_dev = female_x_test[:100]\n",
    "female_y_dev = female_y_test[:100]\n",
    "female_x_test = female_x_test[100:]\n",
    "female_y_test = female_y_test[100:]\n",
    "\n",
    "\n",
    "mixed_x_train, mixed_x_test, mixed_y_train, mixed_y_test = \\\n",
    "train_test_split(mixed_x, mixed_y, test_size=0.1, random_state=1)\n",
    "\n",
    "mixed_x_dev = mixed_x_test[:100]\n",
    "mixed_y_dev = mixed_y_test[:100]\n",
    "mixed_x_test = mixed_x_test[100:]\n",
    "mixed_y_test = mixed_y_test[100:]"
   ]
  },
  {
   "cell_type": "code",
   "execution_count": 6,
   "metadata": {},
   "outputs": [],
   "source": [
    "# three possible splits for f-fold cross validation:\n",
    "# { (male, female), (male, mixed), (female, mixed) }\n",
    "group1_training_x = np.concatenate([male_x_train, female_x_train])\n",
    "group1_training_y = np.concatenate([male_y_train, female_y_train]).ravel()\n",
    "group1_test_x = mixed_x_test\n",
    "group1_test_y = mixed_y_test\n",
    "\n",
    "group2_training_x = np.concatenate([male_x_train, mixed_x_train])\n",
    "group2_training_y = np.concatenate([male_y_train, mixed_y_train]).ravel()\n",
    "group2_test_x = female_x_test\n",
    "group2_test_y = female_y_test\n",
    "\n",
    "group3_training_x = np.concatenate([female_x_train, mixed_x_train])\n",
    "group3_training_y = np.concatenate([female_y_train, mixed_y_train]).ravel()\n",
    "group3_test_x = male_x_test\n",
    "group3_test_y = male_y_test"
   ]
  },
  {
   "cell_type": "code",
   "execution_count": 7,
   "metadata": {},
   "outputs": [],
   "source": [
    "from sklearn.linear_model import LinearRegression\n",
    "from sklearn.metrics import mean_squared_error\n",
    "from sklearn.neural_network import MLPClassifier\n",
    "\n",
    "regression_model = LinearRegression()\n",
    "neural_net = MLPClassifier(hidden_layer_sizes=(8,8,8,8),max_iter=350, activation = 'logistic')"
   ]
  },
  {
   "cell_type": "code",
   "execution_count": 42,
   "metadata": {},
   "outputs": [],
   "source": [
    "def baseline(training_x, training_y, test_x, test_y):\n",
    "    regression_model.fit(training_x, training_y)\n",
    "    neural_net.fit(training_x, training_y)\n",
    "    lr_predictions1 = regression_model.predict(test_x)\n",
    "    nn_predictions1 = neural_net.predict(test_x)\n",
    "    mse_lr1 = mean_squared_error(test_y, lr_predictions1)\n",
    "    mse_nn1 = mean_squared_error(test_y, nn_predictions1)\n",
    "    print(\"Linear regression mse: \" + str(mse_lr1))\n",
    "    print(\"Neural net mse: \" + str(mse_nn1))"
   ]
  },
  {
   "cell_type": "code",
   "execution_count": 43,
   "metadata": {},
   "outputs": [
    {
     "name": "stderr",
     "output_type": "stream",
     "text": [
      "/Library/Frameworks/Python.framework/Versions/3.7/lib/python3.7/site-packages/sklearn/neural_network/multilayer_perceptron.py:566: ConvergenceWarning: Stochastic Optimizer: Maximum iterations (350) reached and the optimization hasn't converged yet.\n",
      "  % self.max_iter, ConvergenceWarning)\n"
     ]
    },
    {
     "name": "stdout",
     "output_type": "stream",
     "text": [
      "Linear regression mse: 147.23280235872892\n",
      "Neural net mse: 117.83835182250397\n",
      "Linear regression mse: 187.36033295257312\n",
      "Neural net mse: 190.63929618768327\n",
      "Linear regression mse: 165.89154613676692\n",
      "Neural net mse: 166.36466165413535\n"
     ]
    }
   ],
   "source": [
    "srconly_mixed_target = baseline(group1_training_x, group1_training_y, mixed_x_test, mixed_y_test)\n",
    "srconly_female_target = baseline(group2_training_x, group2_training_y, female_x_test, female_y_test)\n",
    "srconly_male_target = baseline(group3_training_x, group3_training_y, male_x_test, male_y_test)"
   ]
  },
  {
   "cell_type": "code",
   "execution_count": 44,
   "metadata": {
    "scrolled": true
   },
   "outputs": [
    {
     "name": "stdout",
     "output_type": "stream",
     "text": [
      "Linear regression mse: 197.5487341809297\n",
      "Neural net mse: 163.15037593984962\n",
      "Linear regression mse: 185.17158690855237\n",
      "Neural net mse: 321.4046920821114\n",
      "Linear regression mse: 159.44789235986846\n",
      "Neural net mse: 194.58161648177497\n"
     ]
    }
   ],
   "source": [
    "tgtonly_male_target = baseline(male_x_train[:100], male_y_train[:100].ravel(), male_x_test, male_y_test)\n",
    "tgtonly_female_target = baseline(female_x_train[:100], female_y_train[:100].ravel(), female_x_test, female_y_test)\n",
    "tgtonly_mixed_target = baseline(mixed_x_train[:100], mixed_y_train[:100].ravel(), mixed_x_test, mixed_y_test)"
   ]
  },
  {
   "cell_type": "code",
   "execution_count": 11,
   "metadata": {},
   "outputs": [],
   "source": [
    "group1_training_x_all = np.concatenate([group1_training_x, mixed_x_train[:100]])\n",
    "group1_training_y_all = np.concatenate([group1_training_y, mixed_y_train[:100].ravel()])\n",
    "group2_training_x_all = np.concatenate([group2_training_x, female_x_train[:100]])\n",
    "group2_training_y_all = np.concatenate([group2_training_y, female_y_train[:100].ravel()])\n",
    "group3_training_x_all = np.concatenate([group3_training_x, male_x_train[:100]])\n",
    "group3_training_y_all = np.concatenate([group3_training_y, male_y_train[:100].ravel()])"
   ]
  },
  {
   "cell_type": "code",
   "execution_count": 12,
   "metadata": {
    "scrolled": true
   },
   "outputs": [
    {
     "name": "stderr",
     "output_type": "stream",
     "text": [
      "/Library/Frameworks/Python.framework/Versions/3.7/lib/python3.7/site-packages/sklearn/neural_network/multilayer_perceptron.py:566: ConvergenceWarning: Stochastic Optimizer: Maximum iterations (350) reached and the optimization hasn't converged yet.\n",
      "  % self.max_iter, ConvergenceWarning)\n"
     ]
    },
    {
     "name": "stdout",
     "output_type": "stream",
     "text": [
      "Group one logistic regression mse: 147.25984490027892\n",
      "Group one neural net mse: 123.17749603803486\n",
      "Group one logistic regression mse: 186.9914600177854\n",
      "Group one neural net mse: 180.57771260997066\n",
      "Group one logistic regression mse: 165.90069417469795\n",
      "Group one neural net mse: 159.13533834586465\n"
     ]
    }
   ],
   "source": [
    "all_mixed_target = baseline(group1_training_x_all, group1_training_y_all, mixed_x_test, mixed_y_test)\n",
    "all_female_target = baseline(group2_training_x_all, group2_training_y_all, female_x_test, female_y_test)\n",
    "all_male_target = baseline(group3_training_x_all, group3_training_y_all, male_x_test, male_y_test)"
   ]
  },
  {
   "cell_type": "code",
   "execution_count": 13,
   "metadata": {},
   "outputs": [],
   "source": [
    "def weighted(source_x, target_x, N, M):\n",
    "    weight = M/N\n",
    "    training_x_weighted = np.concatenate([source_x * weight, target_x[:100]])\n",
    "    return training_x_weighted\n",
    "    \n",
    "group1_training_x_weighted = weighted(group1_training_x, mixed_x_train[:100], len(group1_training_y), len(mixed_y_train[:100]))\n",
    "group2_training_x_weighted = weighted(group2_training_x, female_x_train[:100], len(group2_training_y), len(female_y_train[:100]))\n",
    "group3_training_x_weighted = weighted(group3_training_x, male_x_train[:100], len(group3_training_y), len(male_y_train[:100]))"
   ]
  },
  {
   "cell_type": "code",
   "execution_count": 14,
   "metadata": {},
   "outputs": [
    {
     "name": "stdout",
     "output_type": "stream",
     "text": [
      "Group one logistic regression mse: 184.0583367908611\n",
      "Group one neural net mse: 160.71790808240888\n",
      "Group one logistic regression mse: 194.27084166642808\n",
      "Group one neural net mse: 235.43108504398828\n",
      "Group one logistic regression mse: 210.71997287277645\n",
      "Group one neural net mse: 163.65413533834587\n"
     ]
    }
   ],
   "source": [
    "weighted_mixed_target = baseline(group1_training_x_weighted, group1_training_y_all, mixed_x_test, mixed_y_test)\n",
    "weighted_female_target = baseline(group2_training_x_weighted, group2_training_y_all, female_x_test, female_y_test)\n",
    "weighted_male_target = baseline(group3_training_x_weighted, group3_training_y_all, male_x_test, male_y_test)"
   ]
  },
  {
   "cell_type": "code",
   "execution_count": 15,
   "metadata": {},
   "outputs": [],
   "source": [
    "# number is 1 2 3 denoting which positition x lies in the <x,0,0> vector\n",
    "def feda(source_x, number):\n",
    "    new_data = []\n",
    "    for row in source_x:\n",
    "        expanded_row = []\n",
    "        for i in row:\n",
    "            expanded_row.append(i)\n",
    "            if number == 1:\n",
    "                expanded_row.append(i)\n",
    "                expanded_row.append(0)\n",
    "                expanded_row.append(0)\n",
    "            elif number == 2:\n",
    "                expanded_row.append(0)\n",
    "                expanded_row.append(i)\n",
    "                expanded_row.append(0)\n",
    "            elif number == 3:\n",
    "                expanded_row.append(0)\n",
    "                expanded_row.append(0)\n",
    "                expanded_row.append(i)\n",
    "        new_data.append(expanded_row)\n",
    "    data = np.array(new_data)\n",
    "    return data\n",
    "            "
   ]
  },
  {
   "cell_type": "code",
   "execution_count": 41,
   "metadata": {},
   "outputs": [
    {
     "name": "stdout",
     "output_type": "stream",
     "text": [
      "Group one logistic regression mse: 197.5487341809297\n",
      "Group one neural net mse: 163.15037593984962\n",
      "Group one logistic regression mse: 185.17158690855246\n",
      "Group one neural net mse: 188.05571847507332\n",
      "Group one logistic regression mse: 159.44789235986846\n",
      "Group one neural net mse: 194.58161648177497\n"
     ]
    }
   ],
   "source": [
    "tgtonly_male_target_feda = baseline(feda(male_x_train[:100],1), male_y_train[:100].ravel(), feda(male_x_test, 1), male_y_test)\n",
    "tgtonly_female_target_feda = baseline(feda(female_x_train[:100], 2), female_y_train[:100].ravel(), feda(female_x_test, 2), female_y_test)\n",
    "tgtonly_mixed_target_feda = baseline(feda(mixed_x_train[:100], 3), mixed_y_train[:100].ravel(), feda(mixed_x_test, 3), mixed_y_test)"
   ]
  },
  {
   "cell_type": "code",
   "execution_count": 55,
   "metadata": {},
   "outputs": [],
   "source": [
    "# male would be <x,x,0,0>, female <x,0,x,0> and mixed <x,0,0,x> \n",
    "\n",
    "\n",
    "#_____________________________________________________\n",
    "\n",
    "feda_male = feda(male_x_train, 1)\n",
    "feda_female = feda(female_x_train, 2)\n",
    "feda_mixed = feda(mixed_x_train, 3)\n",
    "\n",
    "group1_training_x_feda = np.concatenate([feda_male, feda_female])\n",
    "group1_training_y_feda = np.concatenate([male_y_train, female_y_train]).ravel()\n",
    "group2_training_x_feda = np.concatenate([feda_male, feda_mixed])\n",
    "group2_training_y_feda = np.concatenate([male_y_train, mixed_y_train]).ravel()\n",
    "group3_training_x_feda = np.concatenate([feda_female, feda_mixed])\n",
    "group3_training_y_feda = np.concatenate([female_y_train, mixed_y_train]).ravel()\n",
    "\n",
    "group1_training_x_all_feda = np.concatenate([group1_training_x_feda, feda_mixed[:100]])\n",
    "group1_training_y_all_feda = np.concatenate([group1_training_y_feda, mixed_y_train[:100].ravel()])\n",
    "group2_training_x_all_feda = np.concatenate([group2_training_x_feda, feda_female[:100]])\n",
    "group2_training_y_all_feda = np.concatenate([group2_training_y_feda, female_y_train[:100].ravel()])\n",
    "group3_training_x_all_feda = np.concatenate([group3_training_x_feda, feda_male[:100]])\n",
    "group3_training_y_all_feda = np.concatenate([group3_training_y_feda, male_y_train[:100].ravel()])"
   ]
  },
  {
   "cell_type": "code",
   "execution_count": 56,
   "metadata": {},
   "outputs": [
    {
     "name": "stderr",
     "output_type": "stream",
     "text": [
      "/Library/Frameworks/Python.framework/Versions/3.7/lib/python3.7/site-packages/sklearn/neural_network/multilayer_perceptron.py:566: ConvergenceWarning: Stochastic Optimizer: Maximum iterations (350) reached and the optimization hasn't converged yet.\n",
      "  % self.max_iter, ConvergenceWarning)\n"
     ]
    },
    {
     "name": "stdout",
     "output_type": "stream",
     "text": [
      "Linear regression mse: 157.4846132342138\n",
      "Neural net mse: 170.61965134706816\n",
      "Linear regression mse: 177.9834077460488\n",
      "Neural net mse: 212.09970674486803\n",
      "Linear regression mse: 176.76540958121961\n",
      "Neural net mse: 232.40225563909775\n"
     ]
    }
   ],
   "source": [
    "feda_mixed_target = baseline(group1_training_x_all_feda, group1_training_y_all_feda, feda(mixed_x_test, 3), mixed_y_test)\n",
    "feda_female_target = baseline(group2_training_x_all_feda, group2_training_y_all_feda, feda(female_x_test, 2), female_y_test)\n",
    "feda_male_target = baseline(group3_training_x_all_feda, group3_training_y_all_feda, feda(male_x_test, 1), male_y_test)\n"
   ]
  },
  {
   "cell_type": "code",
   "execution_count": null,
   "metadata": {},
   "outputs": [],
   "source": [
    "Group one logistic regression mse: 147.25984490027892\n",
    "Group one neural net mse: 123.17749603803486\n",
    "Group one logistic regression mse: 186.9914600177854\n",
    "Group one neural net mse: 180.57771260997066\n",
    "Group one logistic regression mse: 165.90069417469795\n",
    "Group one neural net mse: 159.13533834586465"
   ]
  }
 ],
 "metadata": {
  "kernelspec": {
   "display_name": "Python 3",
   "language": "python",
   "name": "python3"
  },
  "language_info": {
   "codemirror_mode": {
    "name": "ipython",
    "version": 3
   },
   "file_extension": ".py",
   "mimetype": "text/x-python",
   "name": "python",
   "nbconvert_exporter": "python",
   "pygments_lexer": "ipython3",
   "version": "3.7.4"
  }
 },
 "nbformat": 4,
 "nbformat_minor": 2
}
