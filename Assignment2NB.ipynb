{
 "cells": [
  {
   "cell_type": "code",
   "execution_count": 6,
   "metadata": {},
   "outputs": [],
   "source": [
    "import csv\n",
    "import sys\n",
    "import numpy as np\n",
    "import sklearn as sk"
   ]
  },
  {
   "cell_type": "code",
   "execution_count": 7,
   "metadata": {},
   "outputs": [
    {
     "name": "stdout",
     "output_type": "stream",
     "text": [
      "3.7.4 (v3.7.4:e09359112e, Jul  8 2019, 14:54:52) \n",
      "[Clang 6.0 (clang-600.0.57)]\n"
     ]
    }
   ],
   "source": [
    "print(sys.version)"
   ]
  },
  {
   "cell_type": "code",
   "execution_count": 8,
   "metadata": {},
   "outputs": [],
   "source": [
    "male_data = np.genfromtxt('Data/MALE.csv', delimiter=',', skip_header=1)\n",
    "female_data = np.genfromtxt('Data/FEMALE.csv', delimiter=',', skip_header=1)\n",
    "mixed_data = np.genfromtxt('Data/MIXED.csv', delimiter=',', skip_header=1)\n",
    "\n",
    "male_x = male_data[:,:-1]\n",
    "male_y = male_data[:,-1:]\n",
    "female_x = female_data[:,:-1]\n",
    "female_y = female_data[:,-1:]\n",
    "mixed_x = mixed_data[:,:-1]\n",
    "mixed_y = mixed_data[:,-1:]"
   ]
  },
  {
   "cell_type": "code",
   "execution_count": 12,
   "metadata": {},
   "outputs": [],
   "source": [
    "from sklearn.model_selection import train_test_split\n",
    "\n",
    "male_x_train, male_x_test, male_y_train, male_y_test = \\\n",
    "train_test_split(male_x, male_y, test_size=0.1, random_state=1)\n",
    "\n",
    "male_x_train, male_x_validation, male_y_train, male_y_validation = \\\n",
    "train_test_split(male_x_train, male_y_train, test_size=0.2222, random_state=1) \n",
    "\n",
    "female_x_train, female_x_test, female_y_train, female_y_test = \\\n",
    "train_test_split(female_x, female_y, test_size=0.1, random_state=1)\n",
    "\n",
    "female_x_train, female_x_validation, female_y_train, female_y_validation = \\\n",
    "train_test_split(female_x_train, female_y_train, test_size=0.2222, random_state=1) \n",
    "\n",
    "mixed_x_train, mixed_x_test, mixed_y_train, mixed_y_test = \\\n",
    "train_test_split(mixed_x, mixed_y, test_size=0.1, random_state=1)\n",
    "\n",
    "mixed_x_train, mixed_x_validation, mixed_y_train, mixed_y_validation = \\\n",
    "train_test_split(mixed_x_train, mixed_y_train, test_size=0.2222, random_state=1) "
   ]
  },
  {
   "cell_type": "code",
   "execution_count": null,
   "metadata": {},
   "outputs": [],
   "source": []
  }
 ],
 "metadata": {
  "kernelspec": {
   "display_name": "Python 3",
   "language": "python",
   "name": "python3"
  },
  "language_info": {
   "codemirror_mode": {
    "name": "ipython",
    "version": 3
   },
   "file_extension": ".py",
   "mimetype": "text/x-python",
   "name": "python",
   "nbconvert_exporter": "python",
   "pygments_lexer": "ipython3",
   "version": "3.7.4"
  }
 },
 "nbformat": 4,
 "nbformat_minor": 2
}
