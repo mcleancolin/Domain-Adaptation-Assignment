{
 "cells": [
  {
   "cell_type": "code",
   "execution_count": 137,
   "metadata": {},
   "outputs": [],
   "source": [
    "import csv\n",
    "import sys\n",
    "import random\n",
    "import numpy as np"
   ]
  },
  {
   "cell_type": "code",
   "execution_count": 138,
   "metadata": {},
   "outputs": [
    {
     "name": "stdout",
     "output_type": "stream",
     "text": [
      "3.7.4 (v3.7.4:e09359112e, Jul  8 2019, 14:54:52) \n",
      "[Clang 6.0 (clang-600.0.57)]\n"
     ]
    }
   ],
   "source": [
    "print(sys.version)"
   ]
  },
  {
   "cell_type": "code",
   "execution_count": 139,
   "metadata": {},
   "outputs": [],
   "source": [
    "male_data = np.genfromtxt('Data/MALE.csv', delimiter=',', skip_header=1)\n",
    "female_data = np.genfromtxt('Data/FEMALE.csv', delimiter=',', skip_header=1)\n",
    "mixed_data = np.genfromtxt('Data/MIXED.csv', delimiter=',', skip_header=1)\n",
    "\n",
    "male_x = male_data[:,:-1]\n",
    "male_y = male_data[:,-1:]\n",
    "female_x = female_data[:,:-1]\n",
    "female_y = female_data[:,-1:]\n",
    "mixed_x = mixed_data[:,:-1]\n",
    "mixed_y = mixed_data[:,-1:]"
   ]
  },
  {
   "cell_type": "code",
   "execution_count": 140,
   "metadata": {},
   "outputs": [],
   "source": [
    "from sklearn.model_selection import train_test_split\n",
    "\n",
    "male_x_train, male_x_test, male_y_train, male_y_test = \\\n",
    "train_test_split(male_x, male_y, test_size=0.10, random_state=random.randint(1,101))\n",
    "\n",
    "male_x_dev = male_x_test[:100]\n",
    "male_y_dev = male_y_test[:100]\n",
    "male_x_test = male_x_test[100:]\n",
    "male_y_test = male_y_test[100:]\n",
    "\n",
    "female_x_train, female_x_test, female_y_train, female_y_test = \\\n",
    "train_test_split(female_x, female_y, test_size=0.10, random_state=random.randint(1,101))\n",
    "\n",
    "female_x_dev = female_x_test[:100]\n",
    "female_y_dev = female_y_test[:100]\n",
    "female_x_test = female_x_test[100:]\n",
    "female_y_test = female_y_test[100:]\n",
    "\n",
    "\n",
    "mixed_x_train, mixed_x_test, mixed_y_train, mixed_y_test = \\\n",
    "train_test_split(mixed_x, mixed_y, test_size=0.10, random_state=random.randint(1,101))\n",
    "\n",
    "mixed_x_dev = mixed_x_test[:100]\n",
    "mixed_y_dev = mixed_y_test[:100]\n",
    "mixed_x_test = mixed_x_test[100:]\n",
    "mixed_y_test = mixed_y_test[100:]"
   ]
  },
  {
   "cell_type": "code",
   "execution_count": 141,
   "metadata": {},
   "outputs": [],
   "source": [
    "from sklearn.linear_model import LinearRegression\n",
    "from sklearn.metrics import mean_squared_error\n",
    "from sklearn.neural_network import MLPClassifier\n",
    "from sklearn.linear_model import Ridge\n",
    "from sklearn.utils.testing import ignore_warnings\n",
    "from sklearn.exceptions import ConvergenceWarning\n",
    "from sklearn.model_selection import GridSearchCV\n",
    "\n",
    "ridge = Ridge()\n",
    "neural_net = MLPClassifier(hidden_layer_sizes=(16,16,16), max_iter=250, activation = 'relu', learning_rate_init=.001)"
   ]
  },
  {
   "cell_type": "code",
   "execution_count": 142,
   "metadata": {},
   "outputs": [],
   "source": [
    "@ignore_warnings(category=ConvergenceWarning)\n",
    "def baseline(training_x, training_y, test_x):\n",
    "    neural_net.fit(training_x, training_y)\n",
    "    ridge.fit(training_x, training_y)\n",
    "    rr_predictions = ridge.predict(test_x)\n",
    "    nn_predictions = neural_net.predict(test_x)\n",
    "    return rr_predictions, nn_predictions\n",
    "\n",
    "def mse(rr_predictions, nn_predictions, test_y):\n",
    "    mse_rr1 = mean_squared_error(test_y, rr_predictions)\n",
    "    mse_nn1 = mean_squared_error(test_y, nn_predictions)\n",
    "    print(\"Ridge regression mse: \" + str(mse_rr1))\n",
    "    print(\"Neural net mse: \" + str(mse_nn1))"
   ]
  },
  {
   "cell_type": "code",
   "execution_count": 143,
   "metadata": {},
   "outputs": [],
   "source": [
    "def get_subset(data):\n",
    "    return data[:100]"
   ]
  },
  {
   "cell_type": "code",
   "execution_count": 144,
   "metadata": {},
   "outputs": [],
   "source": [
    "# three possible splits for f-fold cross validation:\n",
    "# { (male, female), (male, mixed), (female, mixed) }\n",
    "def src_data_format(x1, x2, y1, y2):\n",
    "    x = np.concatenate([x1, x2])\n",
    "    y = np.concatenate([y1, y2]).ravel()\n",
    "    return x, y"
   ]
  },
  {
   "cell_type": "code",
   "execution_count": 145,
   "metadata": {},
   "outputs": [],
   "source": [
    "def tgt_data_format(x, y):\n",
    "    return x[:100], y[:100].ravel()"
   ]
  },
  {
   "cell_type": "code",
   "execution_count": 146,
   "metadata": {},
   "outputs": [],
   "source": [
    "def all_data_format(x1, x2, x3, y1, y2, y3):\n",
    "    x3 = get_subset(x3)\n",
    "    y3 = get_subset(y3)\n",
    "    x = np.concatenate([x1, x2, x3])\n",
    "    y = np.concatenate([y1, y2, y3]).ravel()\n",
    "    return x, y"
   ]
  },
  {
   "cell_type": "code",
   "execution_count": 147,
   "metadata": {},
   "outputs": [],
   "source": [
    "def weighted(x1, x2, x3, y1, y2, y3):\n",
    "    source = np.concatenate([x1, x2])\n",
    "    target = get_subset(x3)\n",
    "    N = len(source)\n",
    "    M = len(target)\n",
    "    weight = int(N/M)\n",
    "    x = np.concatenate([source, target])\n",
    "    for i in range(1, weight):\n",
    "        x = np.concatenate([x, target])\n",
    "    return x\n",
    "\n",
    "def update_weighted_y(x, y, y_data):\n",
    "    while(len(y) < len(x)):\n",
    "        y = np.concatenate([y, y_data[:100].ravel()])\n",
    "    return y"
   ]
  },
  {
   "cell_type": "code",
   "execution_count": 148,
   "metadata": {},
   "outputs": [],
   "source": [
    "def linint(srconly_pred, tgtonly_pred, target_dev_x, target_dev_y, test_dev_x):\n",
    "    combined_models = np.column_stack((srconly_pred,tgtonly_pred))\n",
    "    neural_net.fit(combined_models, target_dev_y.ravel())\n",
    "    ridge.fit(combined_models, target_dev_y)\n",
    "    \n",
    "    rr_predictions, nn_predictions = baseline(target_dev_x, target_dev_y, test_dev_x)\n",
    "    return rr_predictions, nn_predictions\n",
    "    \n"
   ]
  },
  {
   "cell_type": "code",
   "execution_count": 149,
   "metadata": {},
   "outputs": [
    {
     "name": "stderr",
     "output_type": "stream",
     "text": [
      "/Library/Frameworks/Python.framework/Versions/3.7/lib/python3.7/site-packages/sklearn/model_selection/_split.py:1978: FutureWarning: The default value of cv will change from 3 to 5 in version 0.22. Specify it explicitly to silence this warning.\n",
      "  warnings.warn(CV_WARNING, FutureWarning)\n"
     ]
    }
   ],
   "source": [
    "# hyper param tuning for ridge regression\n",
    "x, y = src_data_format(male_x_train, female_x_train, male_y_train, female_y_train)\n",
    "params = {\"alpha\": [.0001, .001, .01, .1, 1, 10, 100, 400]}\n",
    "grid = GridSearchCV(ridge, params)\n",
    "grid.fit(x, y)\n",
    "\n",
    "x, y = src_data_format(male_x_dev, female_x_dev, male_y_dev, female_y_dev)\n",
    "ridge.alpha = grid.best_params_['alpha']"
   ]
  },
  {
   "cell_type": "code",
   "execution_count": 150,
   "metadata": {},
   "outputs": [],
   "source": [
    "# hyper param tuning for the neural net\n",
    "x, y = src_data_format(male_x_train, female_x_train, male_y_train, female_y_train)\n",
    "# tune shuffle, learning_rate_init, hidden_layer_sizes, max_iter\n",
    "params = {\"learning_rate_init\": [.0001, .001], \"hidden_layer_sizes\" : [(16,16,16,16,16),(16,16,16), (64,64,64)]}\n",
    "#grid = GridSearchCV(neural_net, params)\n",
    "#grid.fit(x, y)\n",
    "\n",
    "x, y = src_data_format(male_x_dev, female_x_dev, male_y_dev, female_y_dev)\n",
    "#print(grid.best_params_)"
   ]
  },
  {
   "cell_type": "code",
   "execution_count": 151,
   "metadata": {},
   "outputs": [
    {
     "name": "stdout",
     "output_type": "stream",
     "text": [
      "Mixed target Ridge Regression LININT model:\n"
     ]
    },
    {
     "name": "stderr",
     "output_type": "stream",
     "text": [
      "/Library/Frameworks/Python.framework/Versions/3.7/lib/python3.7/site-packages/sklearn/neural_network/multilayer_perceptron.py:566: ConvergenceWarning: Stochastic Optimizer: Maximum iterations (250) reached and the optimization hasn't converged yet.\n",
      "  % self.max_iter, ConvergenceWarning)\n",
      "/Library/Frameworks/Python.framework/Versions/3.7/lib/python3.7/site-packages/sklearn/neural_network/multilayer_perceptron.py:921: DataConversionWarning: A column-vector y was passed when a 1d array was expected. Please change the shape of y to (n_samples, ), for example using ravel().\n",
      "  y = column_or_1d(y, warn=True)\n"
     ]
    },
    {
     "name": "stdout",
     "output_type": "stream",
     "text": [
      "Ridge regression mse: 148.25096155009936\n",
      "Neural net mse: 187.99683042789223\n",
      "Mixed target Neural Net LININT model:\n"
     ]
    },
    {
     "name": "stderr",
     "output_type": "stream",
     "text": [
      "/Library/Frameworks/Python.framework/Versions/3.7/lib/python3.7/site-packages/sklearn/neural_network/multilayer_perceptron.py:566: ConvergenceWarning: Stochastic Optimizer: Maximum iterations (250) reached and the optimization hasn't converged yet.\n",
      "  % self.max_iter, ConvergenceWarning)\n",
      "/Library/Frameworks/Python.framework/Versions/3.7/lib/python3.7/site-packages/sklearn/neural_network/multilayer_perceptron.py:921: DataConversionWarning: A column-vector y was passed when a 1d array was expected. Please change the shape of y to (n_samples, ), for example using ravel().\n",
      "  y = column_or_1d(y, warn=True)\n"
     ]
    },
    {
     "name": "stdout",
     "output_type": "stream",
     "text": [
      "Ridge regression mse: 148.25096155009936\n",
      "Neural net mse: 206.42630744849444\n"
     ]
    }
   ],
   "source": [
    "# mixed is target\n",
    "\n",
    "x1, y1 = src_data_format(male_x_train, female_x_train, male_y_train, female_y_train)\n",
    "rr_predictions_src, nn_predictions_src = baseline(x1, y1, mixed_x_dev)\n",
    "\n",
    "x1, y1 = tgt_data_format(mixed_x_train, mixed_y_train)\n",
    "rr_predictions_tgt, nn_predictions_tgt = baseline(x1, y1, mixed_x_dev)\n",
    "\n",
    "print(\"Mixed target Ridge Regression LININT model:\")\n",
    "rr_predictions, nn_predictions = linint(rr_predictions_src, rr_predictions_tgt, mixed_x_dev, mixed_y_dev, mixed_x_test)\n",
    "mse(rr_predictions, nn_predictions, mixed_y_test)\n",
    "\n",
    "print(\"Mixed target Neural Net LININT model:\")\n",
    "rr_predictions, nn_predictions = linint(nn_predictions_src, nn_predictions_tgt, mixed_x_dev, mixed_y_dev, mixed_x_test)\n",
    "mse(rr_predictions, nn_predictions, mixed_y_test)\n"
   ]
  },
  {
   "cell_type": "code",
   "execution_count": 152,
   "metadata": {},
   "outputs": [],
   "source": [
    "x1, y1 = src_data_format(male_x_train, female_x_train, male_y_train, female_y_train)\n",
    "x2, y2 = src_data_format(male_x_train, mixed_x_train, male_y_train, mixed_y_train)\n",
    "x3, y3 = src_data_format(female_x_train, mixed_x_train, female_y_train, mixed_y_train)"
   ]
  },
  {
   "cell_type": "code",
   "execution_count": 153,
   "metadata": {
    "scrolled": true
   },
   "outputs": [
    {
     "name": "stdout",
     "output_type": "stream",
     "text": [
      "Mixed target SRCONLY model:\n",
      "Ridge regression mse: 147.59657530306265\n",
      "Neural net mse: 152.06814580031696\n",
      "Female target SRCONLY model:\n",
      "Ridge regression mse: 158.66084038432143\n",
      "Neural net mse: 150.30205278592376\n",
      "Male target SRCONLY model:\n",
      "Ridge regression mse: 166.49754333672334\n",
      "Neural net mse: 155.18045112781954\n"
     ]
    }
   ],
   "source": [
    "print(\"Mixed target SRCONLY model:\")\n",
    "rr_predictions, nn_predictions = baseline(x1, y1, mixed_x_test)\n",
    "mse(rr_predictions, nn_predictions, mixed_y_test)\n",
    "\n",
    "print(\"Female target SRCONLY model:\")\n",
    "rr_predictions, nn_predictions = baseline(x2, y2, female_x_test)\n",
    "mse(rr_predictions, nn_predictions, female_y_test)\n",
    "\n",
    "print(\"Male target SRCONLY model:\")\n",
    "rr_predictions, nn_predictions = baseline(x3, y3, male_x_test)\n",
    "mse(rr_predictions, nn_predictions, male_y_test)"
   ]
  },
  {
   "cell_type": "code",
   "execution_count": 155,
   "metadata": {},
   "outputs": [],
   "source": [
    "x1, y1 = tgt_data_format(male_x_train, male_y_train)\n",
    "x2, y2 = tgt_data_format(female_x_train, female_y_train)\n",
    "x3, y3 = tgt_data_format(mixed_x_train, mixed_y_train)"
   ]
  },
  {
   "cell_type": "code",
   "execution_count": 156,
   "metadata": {
    "scrolled": true
   },
   "outputs": [
    {
     "name": "stdout",
     "output_type": "stream",
     "text": [
      "Male target TGTONLY model:\n",
      "Ridge regression mse: 165.91136715650268\n",
      "Neural net mse: 234.80075187969925\n",
      "Female target SRCONLY model:\n",
      "Ridge regression mse: 163.9702525582729\n",
      "Neural net mse: 238.6891495601173\n",
      "Mixed target SRCONLY model:\n",
      "Ridge regression mse: 156.38891458220849\n",
      "Neural net mse: 190.49603803486528\n"
     ]
    }
   ],
   "source": [
    "print(\"Male target TGTONLY model:\")\n",
    "rr_predictions, nn_predictions = baseline(x1, y1, male_x_test)\n",
    "mse(rr_predictions, nn_predictions, male_y_test)\n",
    "\n",
    "print(\"Female target SRCONLY model:\")\n",
    "rr_predictions, nn_predictions = baseline(x2, y2, female_x_test)\n",
    "mse(rr_predictions, nn_predictions, female_y_test)\n",
    "\n",
    "print(\"Mixed target SRCONLY model:\")\n",
    "rr_predictions, nn_predictions = baseline(x3, y3, mixed_x_test)\n",
    "mse(rr_predictions, nn_predictions, mixed_y_test)"
   ]
  },
  {
   "cell_type": "code",
   "execution_count": 157,
   "metadata": {},
   "outputs": [],
   "source": [
    "x1, y1 = all_data_format(male_x_train, female_x_train, mixed_x_train, male_y_train, female_y_train, mixed_y_train)\n",
    "x2, y2 = all_data_format(male_x_train, mixed_x_train, female_x_train, male_y_train, mixed_y_train, female_y_train)\n",
    "x3, y3 = all_data_format(female_x_train, mixed_x_train, male_x_train, female_y_train, mixed_y_train, male_y_train)"
   ]
  },
  {
   "cell_type": "code",
   "execution_count": 158,
   "metadata": {
    "scrolled": true
   },
   "outputs": [
    {
     "name": "stdout",
     "output_type": "stream",
     "text": [
      "Mixed target ALL model:\n",
      "Ridge regression mse: 147.61480679167093\n",
      "Neural net mse: 132.3011093502377\n",
      "Female target ALL model:\n",
      "Ridge regression mse: 158.5408140352123\n",
      "Neural net mse: 148.59530791788856\n",
      "Male target ALL model:\n",
      "Ridge regression mse: 166.4461244459143\n",
      "Neural net mse: 156.9360902255639\n"
     ]
    }
   ],
   "source": [
    "print(\"Mixed target ALL model:\")\n",
    "rr_predictions, nn_predictions = baseline(x1, y1, mixed_x_test)\n",
    "mse(rr_predictions, nn_predictions, mixed_y_test)\n",
    "\n",
    "print(\"Female target ALL model:\")\n",
    "rr_predictions, nn_predictions = baseline(x2, y2, female_x_test)\n",
    "mse(rr_predictions, nn_predictions, female_y_test)\n",
    "\n",
    "print(\"Male target ALL model:\")\n",
    "rr_predictions, nn_predictions = baseline(x3, y3, male_x_test)\n",
    "mse(rr_predictions, nn_predictions, male_y_test)"
   ]
  },
  {
   "cell_type": "code",
   "execution_count": 159,
   "metadata": {},
   "outputs": [],
   "source": [
    "# change the data groups to the all variables\n",
    "x1 = weighted(male_x_train, female_x_train, mixed_x_train, male_y_train, female_y_train, mixed_y_train)\n",
    "x2 = weighted(male_x_train, mixed_x_train, female_x_train, male_y_train, mixed_y_train, female_y_train)\n",
    "x3 = weighted(female_x_train, mixed_x_train, male_x_train, female_y_train, mixed_y_train, male_y_train)\n",
    "\n",
    "y1 = update_weighted_y(x1, y1, mixed_y_train)\n",
    "y2 = update_weighted_y(x2, y2, female_y_train)\n",
    "y3 = update_weighted_y(x3, y3, male_y_train)"
   ]
  },
  {
   "cell_type": "code",
   "execution_count": 160,
   "metadata": {},
   "outputs": [
    {
     "name": "stdout",
     "output_type": "stream",
     "text": [
      "Mixed target WEIGHTED model:\n",
      "Ridge regression mse: 150.33919195355296\n",
      "Neural net mse: 219.973058637084\n",
      "Female target WEIGHTED model:\n",
      "Ridge regression mse: 158.8998908703008\n",
      "Neural net mse: 222.10263929618768\n",
      "Male target WEIGHTED model:\n",
      "Ridge regression mse: 167.20882162841534\n",
      "Neural net mse: 197.58270676691728\n"
     ]
    }
   ],
   "source": [
    "print(\"Mixed target WEIGHTED model:\")\n",
    "rr_predictions, nn_predictions = baseline(x1, y1, mixed_x_test)\n",
    "mse(rr_predictions, nn_predictions, mixed_y_test)\n",
    "\n",
    "print(\"Female target WEIGHTED model:\")\n",
    "rr_predictions, nn_predictions = baseline(x2, y2, female_x_test)\n",
    "mse(rr_predictions, nn_predictions, female_y_test)\n",
    "\n",
    "print(\"Male target WEIGHTED model:\")\n",
    "rr_predictions, nn_predictions = baseline(x3, y3, male_x_test)\n",
    "mse(rr_predictions, nn_predictions, male_y_test)"
   ]
  },
  {
   "cell_type": "code",
   "execution_count": 161,
   "metadata": {},
   "outputs": [],
   "source": [
    "# number is 1 2 3 denoting which positition x lies in the <x, i, i, i> vector\n",
    "# male would be <x,x,0,0>, female <x,0,x,0> and mixed <x,0,0,x> \n",
    "def feda(source_x, number):\n",
    "    new_data = []\n",
    "    for row in source_x:\n",
    "        expanded_row = []\n",
    "        for i in row:\n",
    "            expanded_row.append(i)\n",
    "            if number == 1:\n",
    "                expanded_row.append(i)\n",
    "                expanded_row.append(0)\n",
    "                expanded_row.append(0)\n",
    "            elif number == 2:\n",
    "                expanded_row.append(0)\n",
    "                expanded_row.append(i)\n",
    "                expanded_row.append(0)\n",
    "            elif number == 3:\n",
    "                expanded_row.append(0)\n",
    "                expanded_row.append(0)\n",
    "                expanded_row.append(i)\n",
    "        new_data.append(expanded_row)\n",
    "    data = np.array(new_data)\n",
    "    return data\n",
    "            "
   ]
  },
  {
   "cell_type": "code",
   "execution_count": 162,
   "metadata": {},
   "outputs": [
    {
     "name": "stdout",
     "output_type": "stream",
     "text": [
      "Male target FEDA TGTONLY model:\n",
      "Ridge regression mse: 165.47219867878778\n",
      "Neural net mse: 218.50375939849624\n",
      "Female target FEDA TGTONLY model:\n",
      "Ridge regression mse: 164.977530021214\n",
      "Neural net mse: 252.6656891495601\n",
      "Mixed target FEDA TGTONLY model:\n",
      "Ridge regression mse: 155.90804687027676\n",
      "Neural net mse: 174.84310618066561\n"
     ]
    }
   ],
   "source": [
    "x1, y1 = tgt_data_format(male_x_train, male_y_train)\n",
    "x2, y2 = tgt_data_format(female_x_train, female_y_train)\n",
    "x3, y3 = tgt_data_format(mixed_x_train, mixed_y_train)\n",
    "\n",
    "print(\"Male target FEDA TGTONLY model:\")\n",
    "rr_predictions, nn_predictions = baseline(feda(x1,1), y1, feda(male_x_test, 1))\n",
    "mse(rr_predictions, nn_predictions, male_y_test)\n",
    "\n",
    "print(\"Female target FEDA TGTONLY model:\")\n",
    "rr_predictions, nn_predictions =  baseline(feda(x2, 2), y2, feda(female_x_test, 2))\n",
    "mse(rr_predictions, nn_predictions, female_y_test)\n",
    "\n",
    "print(\"Mixed target FEDA TGTONLY model:\")\n",
    "rr_predictions, nn_predictions = baseline(feda(x3, 3), y3, feda(mixed_x_test, 3))\n",
    "mse(rr_predictions, nn_predictions, mixed_y_test)"
   ]
  },
  {
   "cell_type": "code",
   "execution_count": 163,
   "metadata": {},
   "outputs": [
    {
     "name": "stdout",
     "output_type": "stream",
     "text": [
      "Mixed target FEDA SRCONLY:\n",
      "Ridge regression mse: 152.1812932030653\n",
      "Neural net mse: 340.56576862123615\n",
      "Female target FEDA SRCONLY:\n",
      "Ridge regression mse: 200.20870192579406\n",
      "Neural net mse: 186.00879765395894\n",
      "Male target FEDA SRCONLY:\n",
      "Ridge regression mse: 161.89386231323084\n",
      "Neural net mse: 154.01127819548873\n"
     ]
    }
   ],
   "source": [
    "feda_male = feda(male_x_train, 1)\n",
    "feda_female = feda(female_x_train, 2)\n",
    "feda_mixed = feda(mixed_x_train, 3)\n",
    "\n",
    "print(\"Mixed target FEDA SRCONLY:\")\n",
    "x1, y1 = src_data_format(feda_male, feda_female, male_y_train, female_y_train)\n",
    "x1_test = feda(mixed_x_test, 3)\n",
    "rr_predictions, nn_predictions = baseline(x1, y1, x1_test)\n",
    "mse(rr_predictions, nn_predictions, mixed_y_test)\n",
    "\n",
    "print(\"Female target FEDA SRCONLY:\")\n",
    "x2, y2 = src_data_format(feda_male, feda_mixed, male_y_train, mixed_y_train)\n",
    "x2_test = feda(female_x_test, 2)\n",
    "rr_predictions, nn_predictions = baseline(x2, y2, x2_test)\n",
    "mse(rr_predictions, nn_predictions, female_y_test)\n",
    "\n",
    "print(\"Male target FEDA SRCONLY:\")\n",
    "x3, y3 = src_data_format(feda_female, feda_mixed, female_y_train, mixed_y_train)\n",
    "x3_test = feda(male_x_test, 1)\n",
    "rr_predictions, nn_predictions = baseline(x1, y1, x3_test)\n",
    "mse(rr_predictions, nn_predictions, male_y_test)"
   ]
  },
  {
   "cell_type": "code",
   "execution_count": 164,
   "metadata": {},
   "outputs": [
    {
     "name": "stdout",
     "output_type": "stream",
     "text": [
      "1605 samples were found to be similar to the target data.\n",
      "1598 samples were found to be similar to the target data.\n",
      "TGT ONLY:\n",
      "146.62719262808912\n",
      "TGT with threshold source:\n",
      "114.57945216538148\n",
      "ALL:\n",
      "114.83594574333435\n"
     ]
    }
   ],
   "source": [
    "def find_similarity(source_x, source_y, target_x, threshold):\n",
    "    x = []\n",
    "    y = []\n",
    "    for i in range(0, len(source_x)):\n",
    "        src_row = source_x[i]\n",
    "        similarity = 0\n",
    "        for tgt_row in target_x[:100]:\n",
    "            similarity += sum((src_row - tgt_row)**2)\n",
    "        similarity /= 100\n",
    "        if similarity < threshold:\n",
    "            x.append(src_row)\n",
    "            y.append(source_y[i])\n",
    "    print(str(len(y)) + \" samples were found to be similar to the target data.\")\n",
    "    return x, y\n",
    "\n",
    "x_new1, y_new1 = find_similarity(male_x_train, male_y_train, mixed_x_train, 400)\n",
    "x_new2, y_new2 = find_similarity(female_x_train, female_y_train, mixed_x_train,  400)\n",
    "\n",
    "x1 = np.concatenate([mixed_x_train[:100], x_new1, x_new2])\n",
    "y1 = np.concatenate([mixed_y_train[:100], y_new1, y_new2])\n",
    "\n",
    "print(\"TGT ONLY:\")\n",
    "elm_poly.train(np.column_stack([mixed_y_train[:100], mixed_x_train[:100]]))\n",
    "print(elm_poly.test(np.column_stack((mixed_y_test,mixed_x_test))).get(\"mse\"))\n",
    "\n",
    "print(\"TGT with threshold source:\")\n",
    "elm_poly.train(np.column_stack((y1,x1)))\n",
    "print(elm_poly.test(np.column_stack((mixed_y_test,mixed_x_test))).get(\"mse\"))\n",
    "      \n",
    "x1 = np.concatenate([mixed_x_train[:100], male_x_train, female_x_train])\n",
    "y1 = np.concatenate([mixed_y_train[:100], male_y_train, female_y_train])\n",
    "print(\"ALL:\")\n",
    "elm_poly.train(np.column_stack((y1,x1)))\n",
    "print(elm_poly.test(np.column_stack((mixed_y_test,mixed_x_test))).get(\"mse\"))"
   ]
  },
  {
   "cell_type": "code",
   "execution_count": 61,
   "metadata": {},
   "outputs": [
    {
     "name": "stdout",
     "output_type": "stream",
     "text": [
      "ELM mse: 208.42472266244056\n"
     ]
    }
   ],
   "source": [
    "from elm import ELM\n",
    "from sklearn.model_selection import ShuffleSplit, KFold, cross_val_score\n",
    "\n",
    "x1, y1 = src_data_format(male_x_train, female_x_train, male_y_train, female_y_train)\n",
    "x2, y2 = src_data_format(male_x_train, mixed_x_train, male_y_train, mixed_y_train)\n",
    "x3, y3 = src_data_format(female_x_train, mixed_x_train, female_y_train, mixed_y_train)\n",
    "hid_nums = [10, 50, 100, 250, 400]\n",
    "'''\n",
    "for number in hid_nums:\n",
    "    print(number, end=' ')\n",
    "    e = ELM(number)\n",
    "    ave = 0\n",
    "    for i in range(10):\n",
    "        cv = KFold(n_splits=5, shuffle=True)\n",
    "        scores = cross_val_score(e, x2.astype(int), y2.astype(int),cv=cv, scoring='accuracy', n_jobs=-1)\n",
    "        ave += scores.mean()\n",
    "    ave /= 10\n",
    "    print(\"Accuracy: %0.3f \" % (ave))\n",
    "'''\n",
    "elm = ELM(hid_num=250).fit(x1.astype(int), y1.astype(int))\n",
    "preds = elm.predict(mixed_x_test.astype(int))\n",
    "error = mean_squared_error(mixed_y_test.astype(int), preds)\n",
    "print(\"ELM mse: \" + str(error))\n",
    "\n",
    "#print(\"ELM Accuracy %0.3f \" % elm.score(mixed_x_test.astype(int), mixed_y_test.astype(int)))"
   ]
  },
  {
   "cell_type": "code",
   "execution_count": 165,
   "metadata": {},
   "outputs": [],
   "source": [
    "import elm.elmk\n",
    "# first argument is a kernel function \n",
    "# second iscoefficient C of regularization,\n",
    "# third is a list of arguments for the kernel function.\n",
    "# safe values -> params = [\"poly\", 0.9993040203345642, [2.470566656543985, 2.4474257958252617]]\n",
    "params = [\"poly\", 1.0722153359905189, [3.06744136499759, 2.3780118881296826]]\n",
    "elm_poly = elm.ELMKernel(params)\n",
    "params = [\"linear\", 250, []]\n",
    "elm_linear = elm.ELMKernel(params)\n",
    "params = [\"rbf\", 5.092921315186362, [-14.097889701989264]]\n",
    "elm_rbf = elm.ELMKernel(params)"
   ]
  },
  {
   "cell_type": "code",
   "execution_count": null,
   "metadata": {},
   "outputs": [
    {
     "name": "stdout",
     "output_type": "stream",
     "text": [
      "elmk\n",
      "##### Start search #####\n"
     ]
    },
    {
     "name": "stderr",
     "output_type": "stream",
     "text": [
      "/Library/Frameworks/Python.framework/Versions/3.7/lib/python3.7/site-packages/deap/creator.py:141: RuntimeWarning: A class named 'FitnessMax' has already been created and it will be overwritten. Consider deleting previous creation of that class or rename it.\n",
      "  RuntimeWarning)\n",
      "/Library/Frameworks/Python.framework/Versions/3.7/lib/python3.7/site-packages/deap/creator.py:141: RuntimeWarning: A class named 'Individual' has already been created and it will be overwritten. Consider deleting previous creation of that class or rename it.\n",
      "  RuntimeWarning)\n"
     ]
    }
   ],
   "source": [
    "total_data = np.concatenate([np.column_stack((male_y_test,male_x_test)),\\\n",
    "                             np.column_stack((female_y_test,female_x_test)),\\\n",
    "                             np.column_stack((mixed_y_test,mixed_x_test))])\n",
    "elm_poly.search_param(total_data, kf = [\"rbf\"])\n",
    "elm_poly.search_param(total_data, kf = [\"linear\"])\n",
    "elm_poly.search_param(total_data, kf = [\"poly\"])"
   ]
  },
  {
   "cell_type": "code",
   "execution_count": 129,
   "metadata": {},
   "outputs": [
    {
     "name": "stdout",
     "output_type": "stream",
     "text": [
      "164.17033775302636\n"
     ]
    }
   ],
   "source": [
    "x1, y1 = src_data_format(male_x_train, female_x_train, male_y_train, female_y_train)\n",
    "x2, y2 = src_data_format(male_x_train, mixed_x_train, male_y_train, mixed_y_train)\n",
    "x3, y3 = src_data_format(female_x_train, mixed_x_train, female_y_train, mixed_y_train)\n",
    "elm_rbf.train(np.column_stack((y2,x2)))\n",
    "print(elm_rbf.test(np.column_stack((female_y_test,female_x_test))).get(\"mse\"))"
   ]
  },
  {
   "cell_type": "code",
   "execution_count": null,
   "metadata": {},
   "outputs": [],
   "source": []
  }
 ],
 "metadata": {
  "kernelspec": {
   "display_name": "Python 3",
   "language": "python",
   "name": "python3"
  },
  "language_info": {
   "codemirror_mode": {
    "name": "ipython",
    "version": 3
   },
   "file_extension": ".py",
   "mimetype": "text/x-python",
   "name": "python",
   "nbconvert_exporter": "python",
   "pygments_lexer": "ipython3",
   "version": "3.7.4"
  }
 },
 "nbformat": 4,
 "nbformat_minor": 2
}
